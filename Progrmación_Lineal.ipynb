{
 "cells": [
  {
   "cell_type": "markdown",
   "id": "6c0d6c91-042e-4d88-a568-2f558824df2d",
   "metadata": {},
   "source": [
    "<h1 style=\"text-align:center\">PROGRAMACIÓN LINEAL </h1>"
   ]
  },
  {
   "cell_type": "markdown",
   "id": "a9387f8a-b773-4c2a-8a0e-d032f3103be1",
   "metadata": {},
   "source": [
    "# MÉTODO SIMPLEX\n",
    "Surgió en la 2da guerra mundial desarrollado por el matemático George Dantzing en el año de 1947.\n",
    "## EL PROBLEMA\n",
    "Un autobús que hace el recorrido Cali-Buga, ofrece asientos para fumadores al precio de 10.000 pesos y a no fumadores al precio de 6.000 pesos. Al no fumador se le deja llevar 50 Kg. de peso y al fumador 20 Kg. Si el autobús tiene 90 asientos y admite un equipaje de hasta 3.000 Kg. ¿Cuál ha de ser la oferta de asientos de la compañía para cada tipo de pasajeros, con la finalidad de optimizar el beneficio? Además, debe considerarse que por políticas de la empresa, deben ofrecerse cómo mínimo 10 asientos para pasajeros no fumadores.\n",
    "\n",
    "### Modelamiento mediante programación lineal\n",
    "#### Variables\n",
    "\n",
    "$x$: Cantidad de asientos reservados a fumadores.\n",
    "\n",
    "$y$: Cantidad de asientos reservados a no fumadores.\n",
    "\n",
    "#### Restricciones\n",
    "\n",
    "$20x + 50y \\leq 3000$ (Equipaje permitido)\n",
    "\n",
    "$x + y \\leq 90$ (Cantidad de asientos disponibles)\n",
    "\n",
    "$y \\geq 10$ (Política de asientos mínimos para no fumadores)\n",
    "\n",
    "$y \\geq 0$ (No negatividad)\n",
    "\n",
    "$x \\geq 0$ (No negatividad)\n",
    "\n",
    "#### Función objetivo \n",
    "\n",
    "$z = 10000x + 6000y$  (Maximizar)"
   ]
  },
  {
   "cell_type": "code",
   "execution_count": 5,
   "id": "a87ef8af-3f41-48da-9a73-e21c1c4fa233",
   "metadata": {},
   "outputs": [],
   "source": [
    "import matplotlib.pyplot as plt\n",
    "import numpy as np\n",
    "from shapely.geometry import LineString"
   ]
  },
  {
   "cell_type": "code",
   "execution_count": 4,
   "id": "dc973484-ba16-4ba0-83cc-39def1ff20b7",
   "metadata": {},
   "outputs": [
    {
     "name": "stdout",
     "output_type": "stream",
     "text": [
      "Collecting Shapely\n",
      "  Downloading Shapely-1.8.4-cp310-cp310-macosx_10_9_x86_64.whl (1.2 MB)\n",
      "\u001b[2K     \u001b[90m━━━━━━━━━━━━━━━━━━━━━━━━━━━━━━━━━━━━━━━━\u001b[0m \u001b[32m1.2/1.2 MB\u001b[0m \u001b[31m55.6 kB/s\u001b[0m eta \u001b[36m0:00:00\u001b[0m00:01\u001b[0m00:01\u001b[0mm\n",
      "\u001b[?25hInstalling collected packages: Shapely\n",
      "Successfully installed Shapely-1.8.4\n",
      "\u001b[33mWARNING: You are using pip version 22.0.3; however, version 22.2.2 is available.\n",
      "You should consider upgrading via the '/Library/Frameworks/Python.framework/Versions/3.10/bin/python3.10 -m pip install --upgrade pip' command.\u001b[0m\u001b[33m\n",
      "\u001b[0m"
     ]
    }
   ],
   "source": [
    "!pip3 install Shapely"
   ]
  },
  {
   "cell_type": "markdown",
   "id": "d1aeb109-d2d6-4a35-859a-db040ef293c3",
   "metadata": {},
   "source": [
    "# MÉTODO GRÁFICO"
   ]
  },
  {
   "cell_type": "code",
   "execution_count": 1,
   "id": "2fb54394-7cea-4247-a6ee-7fa8aa1c7760",
   "metadata": {},
   "outputs": [
    {
     "name": "stdout",
     "output_type": "stream",
     "text": [
      "\n",
      " COORDENADAS DE LAS INTERSECCIONES\n",
      "Coordenadas de la primera intersección: POINT (0 60) \n",
      "Coordenadas de la segunda intersección: POINT (50 40) \n",
      "Coordenadas de la tercera intersección: POINT (80 10) \n",
      "Coordenadas de la cuarta intersección: POINT (0 10) \n",
      "\n",
      " EVALUACIÓN DE LA FO EN LOS VÉRTICES\n",
      "Función objetivo en la intersección 1: 360000.0 pesos\n",
      "Función objetivo en la intersección 2: 740000.0 pesos\n",
      "Función objetivo en la intersección 3: 860000.0 pesos\n",
      "Función objetivo en la intersección 4: 60000.0 pesos\n",
      "\n",
      " SOLUCIÓN ÓPTIMA\n",
      "Solución óptima: 860000.0 pesos\n",
      "\n",
      " VARIABLES DE DECISIÓN\n",
      "Cantidad de asientos a reservar para fumadores: 80.0 \n",
      "Cantidad de asientos a reservar para no fumadores: 10.0 \n"
     ]
    },
    {
     "data": {
      "image/png": "[encoded data removed]",
      "text/plain": [
       "<Figure size 432x288 with 1 Axes>"
      ]
     },
     "metadata": {
      "needs_background": "light"
     },
     "output_type": "display_data"
    }
   ],
   "source": [
    "#Autor: Bryan Salazar López, Ing. M.Sc. (2021)\n",
    "#Librerías necesarias\n",
    "import matplotlib.pyplot as plt\n",
    "import numpy as np\n",
    "from shapely.geometry import LineString\n",
    "\n",
    "#Ecuaciones e intervalos (Para tabular)\n",
    "x = np.arange(-100, 150, 50)\n",
    "y = np.arange(-100, 150, 50)\n",
    "y1 = (3000 - (20 * x))/ 50\n",
    "y2 = 90 - x\n",
    "y3 = 10 + (0 * x)\n",
    "x1 = 0 * y\n",
    "y4 = 0 * x\n",
    "z = (-10000 * x) / 6000\n",
    "\n",
    "#Identificadores para las líneas\n",
    "primera_linea = LineString(np.column_stack((x, y1)))\n",
    "segunda_linea = LineString(np.column_stack((x, y2)))\n",
    "tercera_linea = LineString(np.column_stack((x, y3)))\n",
    "cuarta_linea = LineString(np.column_stack((x1, y)))\n",
    "quinta_linea = LineString(np.column_stack((x, y4)))\n",
    "sexta_linea = LineString(np.column_stack((x, z)))\n",
    "\n",
    "#Graficando las líneas\n",
    "plt.plot(x, y1, '-', linewidth=2, color='b')\n",
    "plt.plot(x, y2, '-', linewidth=2, color='g')\n",
    "plt.plot(x, y3, '-', linewidth=2, color='r')\n",
    "plt.plot(x1, y, '-', linewidth=2, color='y')\n",
    "plt.plot(x, y4, '-', linewidth=2, color='k')\n",
    "plt.plot(x, z, ':', linewidth=1, color='k')\n",
    "\n",
    "#Generando las intersecciones (vértices)\n",
    "primera_interseccion = cuarta_linea.intersection(primera_linea)\n",
    "segunda_interseccion = primera_linea.intersection(segunda_linea)\n",
    "tercera_interseccion = segunda_linea.intersection(tercera_linea)\n",
    "cuarta_interseccion = tercera_linea.intersection(cuarta_linea)\n",
    "\n",
    "#Graficando los vértices\n",
    "plt.plot(*primera_interseccion.xy, 'o')\n",
    "plt.plot(*segunda_interseccion.xy, 'o')\n",
    "plt.plot(*tercera_interseccion.xy, 'o')\n",
    "plt.plot(*cuarta_interseccion.xy, 'o')\n",
    "\n",
    "#Imprimiendo las coordenadas de los vértices en la consola\n",
    "print('\\n COORDENADAS DE LAS INTERSECCIONES')\n",
    "print('Coordenadas de la primera intersección: {} '.format(primera_interseccion))\n",
    "print('Coordenadas de la segunda intersección: {} '.format(segunda_interseccion))\n",
    "print('Coordenadas de la tercera intersección: {} '.format(tercera_interseccion))\n",
    "print('Coordenadas de la cuarta intersección: {} '.format(cuarta_interseccion))\n",
    "\n",
    "#Identificando los valores de las coordenadas x y y de cada vértice\n",
    "xi1m, yi1m = primera_interseccion.xy\n",
    "xi2m, yi2m = segunda_interseccion.xy\n",
    "xi3m, yi3m = tercera_interseccion.xy\n",
    "xi4m, yi4m = cuarta_interseccion.xy\n",
    "\n",
    "#Cambiamos el formato de matriz a float\n",
    "xi1 = np.float64(np.array(xi1m))\n",
    "xi2 = np.float64(np.array(xi2m))\n",
    "xi3 = np.float64(np.array(xi3m))\n",
    "xi4 = np.float64(np.array(xi4m))\n",
    "yi1 = np.float64(np.array(yi1m))\n",
    "yi2 = np.float64(np.array(yi2m))\n",
    "yi3 = np.float64(np.array(yi3m))\n",
    "yi4 = np.float64(np.array(yi4m))\n",
    "\n",
    "#Evaluando la función objetivo en cada vértice\n",
    "FOi1 = (xi1 * 10000) + (yi1 * 6000)\n",
    "FOi2 = (xi2 * 10000) + (yi2 * 6000)\n",
    "FOi3 = (xi3 * 10000) + (yi3 * 6000)\n",
    "FOi4 = (xi4 * 10000) + (yi4 * 6000)\n",
    "\n",
    "#Imprimiendo las evaluaciones de la FO en cada vértice (Consola)\n",
    "print('\\n EVALUACIÓN DE LA FO EN LOS VÉRTICES')\n",
    "print('Función objetivo en la intersección 1: {} pesos'.format(FOi1))\n",
    "print('Función objetivo en la intersección 2: {} pesos'.format(FOi2))\n",
    "print('Función objetivo en la intersección 3: {} pesos'.format(FOi3))\n",
    "print('Función objetivo en la intersección 4: {} pesos'.format(FOi4))\n",
    "\n",
    "#Calculando el mejor resultado (Maximizar)\n",
    "ZMAX = max(FOi1, FOi2, FOi3, FOi4)\n",
    "\n",
    "#Imprimiendo la solución óptima en la consola\n",
    "print('\\n SOLUCIÓN ÓPTIMA')\n",
    "print('Solución óptima: {} pesos'.format(ZMAX))\n",
    "\n",
    "#Ordenando las coordenadas de los vértices (Las coordenadas x en m y las coordenadas y en n)\n",
    "m = [xi1, xi2, xi3, xi4]\n",
    "n = [yi1, yi2, yi3, yi4]\n",
    "\n",
    "#Graficando el polígono solución a partir de las coordenadas de los vértices \n",
    "plt.fill(m, n, color='silver')\n",
    "\n",
    "#Identificando el índice del vértice de la mejor solución\n",
    "dict1 = {0:FOi1, 1:FOi2, 2:FOi3, 3:FOi4}\n",
    "posicion = max(dict1, key=dict1.get)\n",
    "\n",
    "#Obteniendo las coordenadas del vértice de la mejor solución de acuerdo al índice\n",
    "XMAX = m[posicion]\n",
    "YMAX = n[posicion]\n",
    "\n",
    "#Imprimiendo las coordenadas del vértice de la mejor solución (variables de decisión)\n",
    "print('\\n VARIABLES DE DECISIÓN')\n",
    "print('Cantidad de asientos a reservar para fumadores: {} '.format(XMAX))\n",
    "print('Cantidad de asientos a reservar para no fumadores: {} '.format(YMAX))\n",
    "\n",
    "#Generando las anotaciones de las coordenadas y solución óptima en el gráfico\n",
    "plt.annotate('  X: {0} / Y: {1} (Coordenadas)'.format(XMAX, YMAX), (XMAX, YMAX))\n",
    "plt.annotate('  Solución óptima: {}'.format(ZMAX), (XMAX, YMAX+3))\n",
    "\n",
    "\n",
    "#Configuraciones adicionales del gráfico\n",
    "plt.grid()\n",
    "plt.xlabel('Asientos para fumadores')\n",
    "plt.ylabel('Asientos para no fumadores')\n",
    "plt.title('Método Gráfico')\n",
    "\n",
    "plt.show()"
   ]
  },
  {
   "cell_type": "code",
   "execution_count": 3,
   "id": "a3fd877c-7e97-4fbf-aa44-0d3f8a78590e",
   "metadata": {},
   "outputs": [
    {
     "data": {
      "image/png": "[encoded data removed]",
      "text/plain": [
       "<Figure size 432x288 with 1 Axes>"
      ]
     },
     "metadata": {
      "needs_background": "light"
     },
     "output_type": "display_data"
    }
   ],
   "source": [
    "#Generando las intersecciones (vértices)\n",
    "primera_interseccion = cuarta_linea.intersection(primera_linea)\n",
    "segunda_interseccion = primera_linea.intersection(segunda_linea)\n",
    "tercera_interseccion = segunda_linea.intersection(tercera_linea)\n",
    "cuarta_interseccion = tercera_linea.intersection(cuarta_linea)\n",
    "\n",
    "#Graficando los vértices\n",
    "plt.plot(*primera_interseccion.xy, 'o')\n",
    "plt.plot(*segunda_interseccion.xy, 'o')\n",
    "plt.plot(*tercera_interseccion.xy, 'o')\n",
    "plt.plot(*cuarta_interseccion.xy, 'o')\n",
    "\n",
    "#Configuraciones adicionales del gráfico\n",
    "plt.grid()\n",
    "plt.xlabel('Asientos para fumadores')\n",
    "plt.ylabel('Asientos para no fumadores')\n",
    "plt.title('Método Gráfico')\n",
    "\n",
    "#Ordenando las coordenadas de los vértices (Las coordenadas x en m y las coordenadas y en n)\n",
    "m = [xi1, xi2, xi3, xi4]\n",
    "n = [yi1, yi2, yi3, yi4]\n",
    "\n",
    "#Graficando el polígono solución a partir de las coordenadas de los vértices (importante el orden según las manecillas)\n",
    "plt.fill(m, n, color='silver')\n",
    "\n",
    "#Generando las anotaciones de las coordenadas y solución óptima en el gráfico\n",
    "plt.annotate('  X: {0} / Y: {1} (Coordenadas)'.format(XMAX, YMAX), (XMAX, YMAX))\n",
    "plt.annotate('  Solución óptima: {}'.format(ZMAX), (XMAX, YMAX+3))\n",
    "\n",
    "plt.show()"
   ]
  },
  {
   "cell_type": "code",
   "execution_count": null,
   "id": "60b1e724-3447-41c1-a690-50896f97648a",
   "metadata": {},
   "outputs": [],
   "source": []
  }
 ],
 "metadata": {
  "kernelspec": {
   "display_name": "Python 3 (ipykernel)",
   "language": "python",
   "name": "python3"
  },
  "language_info": {
   "codemirror_mode": {
    "name": "ipython",
    "version": 3
   },
   "file_extension": ".py",
   "mimetype": "text/x-python",
   "name": "python",
   "nbconvert_exporter": "python",
   "pygments_lexer": "ipython3",
   "version": "3.10.2"
  }
 },
 "nbformat": 4,
 "nbformat_minor": 5
}
