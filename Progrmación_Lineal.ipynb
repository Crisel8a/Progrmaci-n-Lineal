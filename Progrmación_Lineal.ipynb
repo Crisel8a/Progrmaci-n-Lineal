{
 "cells": [
  {
   "cell_type": "markdown",
   "id": "6c0d6c91-042e-4d88-a568-2f558824df2d",
   "metadata": {},
   "source": [
    "<h1 style=\"text-align:center\">PROGRAMACIÓN LINEAL </h1>"
   ]
  },
  {
   "cell_type": "markdown",
   "id": "a9387f8a-b773-4c2a-8a0e-d032f3103be1",
   "metadata": {},
   "source": [
    "# MÉTODO SIMPLEX\n",
    "Surgió en la 2da guerra mundial desarrollado por el matemático George Dantzing en el año de 1947.\n",
    "## EL PROBLEMA\n",
    "Un autobús que hace el recorrido Cali-Buga, ofrece asientos para fumadores al precio de 10.000 pesos y a no fumadores al precio de 6.000 pesos. Al no fumador se le deja llevar 50 Kg. de peso y al fumador 20 Kg. Si el autobús tiene 90 asientos y admite un equipaje de hasta 3.000 Kg. ¿Cuál ha de ser la oferta de asientos de la compañía para cada tipo de pasajeros, con la finalidad de optimizar el beneficio? Además, debe considerarse que por políticas de la empresa, deben ofrecerse cómo mínimo 10 asientos para pasajeros no fumadores.\n",
    "\n",
    "### Modelamiento mediante programación lineal\n",
    "#### Variables\n",
    "\n",
    "$x$: Cantidad de asientos reservados a fumadores.\n",
    "\n",
    "$y$: Cantidad de asientos reservados a no fumadores.\n",
    "\n",
    "#### Restricciones\n",
    "\n",
    "$20x + 50y \\leq 3000$ (Equipaje permitido)\n",
    "\n",
    "$x + y \\leq 90$ (Cantidad de asientos disponibles)\n",
    "\n",
    "$y \\geq 10$ (Política de asientos mínimos para no fumadores)\n",
    "\n",
    "$y \\geq 0$ (No negatividad)\n",
    "\n",
    "$x \\geq 0$ (No negatividad)\n",
    "\n",
    "#### Función objetivo \n",
    "\n",
    "$z = 10000x + 6000y$  (Maximizar)"
   ]
  },
  {
   "cell_type": "code",
   "execution_count": 5,
   "id": "a87ef8af-3f41-48da-9a73-e21c1c4fa233",
   "metadata": {},
   "outputs": [],
   "source": [
    "import matplotlib.pyplot as plt\n",
    "import numpy as np\n",
    "from shapely.geometry import LineString"
   ]
  },
  {
   "cell_type": "code",
   "execution_count": 4,
   "id": "dc973484-ba16-4ba0-83cc-39def1ff20b7",
   "metadata": {},
   "outputs": [
    {
     "name": "stdout",
     "output_type": "stream",
     "text": [
      "Collecting Shapely\n",
      "  Downloading Shapely-1.8.4-cp310-cp310-macosx_10_9_x86_64.whl (1.2 MB)\n",
      "\u001b[2K     \u001b[90m━━━━━━━━━━━━━━━━━━━━━━━━━━━━━━━━━━━━━━━━\u001b[0m \u001b[32m1.2/1.2 MB\u001b[0m \u001b[31m55.6 kB/s\u001b[0m eta \u001b[36m0:00:00\u001b[0m00:01\u001b[0m00:01\u001b[0mm\n",
      "\u001b[?25hInstalling collected packages: Shapely\n",
      "Successfully installed Shapely-1.8.4\n",
      "\u001b[33mWARNING: You are using pip version 22.0.3; however, version 22.2.2 is available.\n",
      "You should consider upgrading via the '/Library/Frameworks/Python.framework/Versions/3.10/bin/python3.10 -m pip install --upgrade pip' command.\u001b[0m\u001b[33m\n",
      "\u001b[0m"
     ]
    }
   ],
   "source": [
    "!pip3 install Shapely"
   ]
  },
  {
   "cell_type": "code",
   "execution_count": 6,
   "id": "63f06e29-381b-4e52-afc0-be0ce075da75",
   "metadata": {},
   "outputs": [],
   "source": [
    "x = np.arange(-100, 150, 50)"
   ]
  },
  {
   "cell_type": "code",
   "execution_count": 7,
   "id": "8de9e816-082b-4d11-ac6c-ef6f492c3607",
   "metadata": {},
   "outputs": [],
   "source": [
    "y = np.arange(-100, 150, 50)"
   ]
  },
  {
   "cell_type": "code",
   "execution_count": 8,
   "id": "aba3e50b-06d9-4cc3-8d7e-b78d2a5f4c5e",
   "metadata": {},
   "outputs": [],
   "source": [
    "#Ecuaciones e intervalos (Para tabular)\n",
    "x = np.arange(-100, 150, 50)\n",
    "y1 = (3000 - (20 * x))/ 50\n",
    "y2 = 90 - x\n",
    "y3 = 10 + (0 * x)\n",
    "y4 = 0 * x\n",
    "y5 = (-10000 * x) / 6000\n",
    "y = np.arange(-100, 150, 50)\n",
    "x1 = 0 * y"
   ]
  },
  {
   "cell_type": "code",
   "execution_count": 9,
   "id": "bce27300-cf65-4cc9-9b81-d57b10f73ebc",
   "metadata": {},
   "outputs": [
    {
     "data": {
      "text/plain": [
       "array([[-100.,  100.],\n",
       "       [ -50.,   80.],\n",
       "       [   0.,   60.],\n",
       "       [  50.,   40.],\n",
       "       [ 100.,   20.]])"
      ]
     },
     "execution_count": 9,
     "metadata": {},
     "output_type": "execute_result"
    }
   ],
   "source": [
    "np.column_stack((x, y1))"
   ]
  },
  {
   "cell_type": "code",
   "execution_count": 10,
   "id": "bec584f3-311c-4744-83f0-112c9ba8b56b",
   "metadata": {},
   "outputs": [
    {
     "data": {
      "image/svg+xml": [
       "<svg xmlns=\"http://www.w3.org/2000/svg\" xmlns:xlink=\"http://www.w3.org/1999/xlink\" width=\"216.0\" height=\"100.0\" viewBox=\"-108.0 12.0 216.0 96.0\" preserveAspectRatio=\"xMinYMin meet\"><g transform=\"matrix(1,0,0,-1,0,120.0)\"><polyline fill=\"none\" stroke=\"#66cc99\" stroke-width=\"2.0\" points=\"-100.0,100.0 -50.0,80.0 0.0,60.0 50.0,40.0 100.0,20.0\" opacity=\"0.8\" /></g></svg>"
      ],
      "text/plain": [
       "<shapely.geometry.linestring.LineString at 0x11d5cbc40>"
      ]
     },
     "execution_count": 10,
     "metadata": {},
     "output_type": "execute_result"
    }
   ],
   "source": [
    "LineString(np.column_stack((x, y1)))\n",
    "\n"
   ]
  },
  {
   "cell_type": "code",
   "execution_count": 11,
   "id": "4829a691-2f0c-466c-add3-87e0940b6ce4",
   "metadata": {},
   "outputs": [],
   "source": [
    "primera_línea = LineString(np.column_stack((x, y1)))"
   ]
  },
  {
   "cell_type": "code",
   "execution_count": 12,
   "id": "44aa76c2-d943-4c60-a609-0a8843fbcb97",
   "metadata": {},
   "outputs": [],
   "source": [
    "#Identificadores para las líneas\n",
    "primera_linea = LineString(np.column_stack((x, y1)))\n",
    "segunda_linea = LineString(np.column_stack((x, y2)))\n",
    "tercera_linea = LineString(np.column_stack((x, y3)))\n",
    "cuarta_linea = LineString(np.column_stack((x1, y)))\n",
    "quinta_linea = LineString(np.column_stack((x, y4)))\n",
    "sexta_linea = LineString(np.column_stack((x, y5)))"
   ]
  },
  {
   "cell_type": "code",
   "execution_count": 13,
   "id": "40e88886-9e66-4671-ba30-4d22f41f44d4",
   "metadata": {},
   "outputs": [
    {
     "ename": "NameError",
     "evalue": "name 'z' is not defined",
     "output_type": "error",
     "traceback": [
      "\u001b[0;31m---------------------------------------------------------------------------\u001b[0m",
      "\u001b[0;31mNameError\u001b[0m                                 Traceback (most recent call last)",
      "Input \u001b[0;32mIn [13]\u001b[0m, in \u001b[0;36m<module>\u001b[0;34m\u001b[0m\n\u001b[1;32m      5\u001b[0m plt\u001b[38;5;241m.\u001b[39mplot(x1, y, \u001b[38;5;124m'\u001b[39m\u001b[38;5;124m-\u001b[39m\u001b[38;5;124m'\u001b[39m, linewidth\u001b[38;5;241m=\u001b[39m\u001b[38;5;241m2\u001b[39m, color\u001b[38;5;241m=\u001b[39m\u001b[38;5;124m'\u001b[39m\u001b[38;5;124my\u001b[39m\u001b[38;5;124m'\u001b[39m)\n\u001b[1;32m      6\u001b[0m plt\u001b[38;5;241m.\u001b[39mplot(x, y4, \u001b[38;5;124m'\u001b[39m\u001b[38;5;124m-\u001b[39m\u001b[38;5;124m'\u001b[39m, linewidth\u001b[38;5;241m=\u001b[39m\u001b[38;5;241m2\u001b[39m, color\u001b[38;5;241m=\u001b[39m\u001b[38;5;124m'\u001b[39m\u001b[38;5;124mk\u001b[39m\u001b[38;5;124m'\u001b[39m)\n\u001b[0;32m----> 7\u001b[0m plt\u001b[38;5;241m.\u001b[39mplot(x, \u001b[43mz\u001b[49m, \u001b[38;5;124m'\u001b[39m\u001b[38;5;124m:\u001b[39m\u001b[38;5;124m'\u001b[39m, linewidth\u001b[38;5;241m=\u001b[39m\u001b[38;5;241m1\u001b[39m, color\u001b[38;5;241m=\u001b[39m\u001b[38;5;124m'\u001b[39m\u001b[38;5;124mk\u001b[39m\u001b[38;5;124m'\u001b[39m)\n",
      "\u001b[0;31mNameError\u001b[0m: name 'z' is not defined"
     ]
    },
    {
     "data": {
      "image/png": "[encoded data removed]",
      "text/plain": [
       "<Figure size 432x288 with 1 Axes>"
      ]
     },
     "metadata": {
      "needs_background": "light"
     },
     "output_type": "display_data"
    }
   ],
   "source": [
    "#Graficando las líneas\n",
    "plt.plot(x, y1, '-', linewidth=2, color='b')\n",
    "plt.plot(x, y2, '-', linewidth=2, color='g')\n",
    "plt.plot(x, y3, '-', linewidth=2, color='r')\n",
    "plt.plot(x1, y, '-', linewidth=2, color='y')\n",
    "plt.plot(x, y4, '-', linewidth=2, color='k')\n",
    "plt.plot(x, z, ':', linewidth=1, color='k')"
   ]
  },
  {
   "cell_type": "code",
   "execution_count": 14,
   "id": "e585fedd-0f59-440b-b6d6-5c756e7b10e8",
   "metadata": {},
   "outputs": [
    {
     "data": {
      "image/png": "[encoded data removed]",
      "text/plain": [
       "<Figure size 432x288 with 1 Axes>"
      ]
     },
     "metadata": {
      "needs_background": "light"
     },
     "output_type": "display_data"
    }
   ],
   "source": [
    "#Configuraciones adicionales del gráfico\n",
    "plt.grid()\n",
    "plt.xlabel('Asientos para fumadores')\n",
    "plt.ylabel('Asientos para no fumadores')\n",
    "plt.title('Método Gráfico')\n",
    "\n",
    "plt.show()"
   ]
  },
  {
   "cell_type": "markdown",
   "id": "d1aeb109-d2d6-4a35-859a-db040ef293c3",
   "metadata": {},
   "source": [
    "# MÉTODO GRÁFICO"
   ]
  },
  {
   "cell_type": "code",
   "execution_count": 16,
   "id": "2fb54394-7cea-4247-a6ee-7fa8aa1c7760",
   "metadata": {},
   "outputs": [
    {
     "name": "stdout",
     "output_type": "stream",
     "text": [
      "\n",
      " COORDENADAS DE LAS INTERSECCIONES\n",
      "Coordenadas de la primera intersección: POINT (0 60) \n",
      "Coordenadas de la segunda intersección: POINT (50 40) \n",
      "Coordenadas de la tercera intersección: POINT (80 10) \n",
      "Coordenadas de la cuarta intersección: POINT (0 10) \n",
      "\n",
      " EVALUACIÓN DE LA FO EN LOS VÉRTICES\n",
      "Función objetivo en la intersección 1: 360000.0 pesos\n",
      "Función objetivo en la intersección 2: 740000.0 pesos\n",
      "Función objetivo en la intersección 3: 860000.0 pesos\n",
      "Función objetivo en la intersección 4: 60000.0 pesos\n",
      "\n",
      " SOLUCIÓN ÓPTIMA\n",
      "Solución óptima: 860000.0 pesos\n",
      "\n",
      " VARIABLES DE DECISIÓN\n",
      "Cantidad de asientos a reservar para fumadores: 80.0 \n",
      "Cantidad de asientos a reservar para no fumadores: 10.0 \n"
     ]
    },
    {
     "data": {
      "image/png": "[encoded data removed]",
      "text/plain": [
       "<Figure size 432x288 with 1 Axes>"
      ]
     },
     "metadata": {
      "needs_background": "light"
     },
     "output_type": "display_data"
    }
   ],
   "source": [
    "#Autor: Bryan Salazar López, Ing. M.Sc. (2021)\n",
    "#Librerías necesarias\n",
    "import matplotlib.pyplot as plt\n",
    "import numpy as np\n",
    "from shapely.geometry import LineString\n",
    "\n",
    "#Ecuaciones e intervalos (Para tabular)\n",
    "x = np.arange(-100, 150, 50)\n",
    "y = np.arange(-100, 150, 50)\n",
    "y1 = (3000 - (20 * x))/ 50\n",
    "y2 = 90 - x\n",
    "y3 = 10 + (0 * x)\n",
    "x1 = 0 * y\n",
    "y4 = 0 * x\n",
    "z = (-10000 * x) / 6000\n",
    "\n",
    "#Identificadores para las líneas\n",
    "primera_linea = LineString(np.column_stack((x, y1)))\n",
    "segunda_linea = LineString(np.column_stack((x, y2)))\n",
    "tercera_linea = LineString(np.column_stack((x, y3)))\n",
    "cuarta_linea = LineString(np.column_stack((x1, y)))\n",
    "quinta_linea = LineString(np.column_stack((x, y4)))\n",
    "sexta_linea = LineString(np.column_stack((x, z)))\n",
    "\n",
    "#Graficando las líneas\n",
    "plt.plot(x, y1, '-', linewidth=2, color='b')\n",
    "plt.plot(x, y2, '-', linewidth=2, color='g')\n",
    "plt.plot(x, y3, '-', linewidth=2, color='r')\n",
    "plt.plot(x1, y, '-', linewidth=2, color='y')\n",
    "plt.plot(x, y4, '-', linewidth=2, color='k')\n",
    "plt.plot(x, z, ':', linewidth=1, color='k')\n",
    "\n",
    "#Generando las intersecciones (vértices)\n",
    "primera_interseccion = cuarta_linea.intersection(primera_linea)\n",
    "segunda_interseccion = primera_linea.intersection(segunda_linea)\n",
    "tercera_interseccion = segunda_linea.intersection(tercera_linea)\n",
    "cuarta_interseccion = tercera_linea.intersection(cuarta_linea)\n",
    "\n",
    "#Graficando los vértices\n",
    "plt.plot(*primera_interseccion.xy, 'o')\n",
    "plt.plot(*segunda_interseccion.xy, 'o')\n",
    "plt.plot(*tercera_interseccion.xy, 'o')\n",
    "plt.plot(*cuarta_interseccion.xy, 'o')\n",
    "\n",
    "#Imprimiendo las coordenadas de los vértices en la consola\n",
    "print('\\n COORDENADAS DE LAS INTERSECCIONES')\n",
    "print('Coordenadas de la primera intersección: {} '.format(primera_interseccion))\n",
    "print('Coordenadas de la segunda intersección: {} '.format(segunda_interseccion))\n",
    "print('Coordenadas de la tercera intersección: {} '.format(tercera_interseccion))\n",
    "print('Coordenadas de la cuarta intersección: {} '.format(cuarta_interseccion))\n",
    "\n",
    "#Identificando los valores de las coordenadas x y y de cada vértice\n",
    "xi1m, yi1m = primera_interseccion.xy\n",
    "xi2m, yi2m = segunda_interseccion.xy\n",
    "xi3m, yi3m = tercera_interseccion.xy\n",
    "xi4m, yi4m = cuarta_interseccion.xy\n",
    "\n",
    "#Cambiamos el formato de matriz a float\n",
    "xi1 = np.float64(np.array(xi1m))\n",
    "xi2 = np.float64(np.array(xi2m))\n",
    "xi3 = np.float64(np.array(xi3m))\n",
    "xi4 = np.float64(np.array(xi4m))\n",
    "yi1 = np.float64(np.array(yi1m))\n",
    "yi2 = np.float64(np.array(yi2m))\n",
    "yi3 = np.float64(np.array(yi3m))\n",
    "yi4 = np.float64(np.array(yi4m))\n",
    "\n",
    "#Evaluando la función objetivo en cada vértice\n",
    "FOi1 = (xi1 * 10000) + (yi1 * 6000)\n",
    "FOi2 = (xi2 * 10000) + (yi2 * 6000)\n",
    "FOi3 = (xi3 * 10000) + (yi3 * 6000)\n",
    "FOi4 = (xi4 * 10000) + (yi4 * 6000)\n",
    "\n",
    "#Imprimiendo las evaluaciones de la FO en cada vértice (Consola)\n",
    "print('\\n EVALUACIÓN DE LA FO EN LOS VÉRTICES')\n",
    "print('Función objetivo en la intersección 1: {} pesos'.format(FOi1))\n",
    "print('Función objetivo en la intersección 2: {} pesos'.format(FOi2))\n",
    "print('Función objetivo en la intersección 3: {} pesos'.format(FOi3))\n",
    "print('Función objetivo en la intersección 4: {} pesos'.format(FOi4))\n",
    "\n",
    "#Calculando el mejor resultado (Maximizar)\n",
    "ZMAX = max(FOi1, FOi2, FOi3, FOi4)\n",
    "\n",
    "#Imprimiendo la solución óptima en la consola\n",
    "print('\\n SOLUCIÓN ÓPTIMA')\n",
    "print('Solución óptima: {} pesos'.format(ZMAX))\n",
    "\n",
    "#Ordenando las coordenadas de los vértices (Las coordenadas x en m y las coordenadas y en n)\n",
    "m = [xi1, xi2, xi3, xi4]\n",
    "n = [yi1, yi2, yi3, yi4]\n",
    "\n",
    "#Graficando el polígono solución a partir de las coordenadas de los vértices \n",
    "plt.fill(m, n, color='silver')\n",
    "\n",
    "#Identificando el índice del vértice de la mejor solución\n",
    "dict1 = {0:FOi1, 1:FOi2, 2:FOi3, 3:FOi4}\n",
    "posicion = max(dict1, key=dict1.get)\n",
    "\n",
    "#Obteniendo las coordenadas del vértice de la mejor solución de acuerdo al índice\n",
    "XMAX = m[posicion]\n",
    "YMAX = n[posicion]\n",
    "\n",
    "#Imprimiendo las coordenadas del vértice de la mejor solución (variables de decisión)\n",
    "print('\\n VARIABLES DE DECISIÓN')\n",
    "print('Cantidad de asientos a reservar para fumadores: {} '.format(XMAX))\n",
    "print('Cantidad de asientos a reservar para no fumadores: {} '.format(YMAX))\n",
    "\n",
    "#Generando las anotaciones de las coordenadas y solución óptima en el gráfico\n",
    "plt.annotate('  X: {0} / Y: {1} (Coordenadas)'.format(XMAX, YMAX), (XMAX, YMAX))\n",
    "plt.annotate('  Solución óptima: {}'.format(ZMAX), (XMAX, YMAX+3))\n",
    "\n",
    "\n",
    "#Configuraciones adicionales del gráfico\n",
    "plt.grid()\n",
    "plt.xlabel('Asientos para fumadores')\n",
    "plt.ylabel('Asientos para no fumadores')\n",
    "plt.title('Método Gráfico')\n",
    "\n",
    "plt.show()"
   ]
  },
  {
   "cell_type": "code",
   "execution_count": null,
   "id": "a3fd877c-7e97-4fbf-aa44-0d3f8a78590e",
   "metadata": {},
   "outputs": [],
   "source": []
  }
 ],
 "metadata": {
  "kernelspec": {
   "display_name": "Python 3 (ipykernel)",
   "language": "python",
   "name": "python3"
  },
  "language_info": {
   "codemirror_mode": {
    "name": "ipython",
    "version": 3
   },
   "file_extension": ".py",
   "mimetype": "text/x-python",
   "name": "python",
   "nbconvert_exporter": "python",
   "pygments_lexer": "ipython3",
   "version": "3.10.2"
  }
 },
 "nbformat": 4,
 "nbformat_minor": 5
}
